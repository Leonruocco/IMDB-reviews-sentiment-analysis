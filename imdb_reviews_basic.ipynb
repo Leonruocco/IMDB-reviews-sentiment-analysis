{
 "cells": [
  {
   "cell_type": "code",
   "execution_count": 48,
   "id": "47cd7e99",
   "metadata": {},
   "outputs": [],
   "source": [
    "import tensorflow_datasets as tfds\n",
    "import tensorflow as tf\n",
    "import numpy as np"
   ]
  },
  {
   "cell_type": "code",
   "execution_count": 49,
   "id": "23277fe6",
   "metadata": {},
   "outputs": [],
   "source": [
    "# Get the data\n",
    "imdb, info = tfds.load(\"imdb_reviews\", with_info=True, as_supervised=True)\n",
    "train_data, test_data = imdb['train'], imdb['test']\n",
    "\n",
    "training_sentences = []\n",
    "training_labels = []\n",
    "testing_sentences = []\n",
    "testing_labels = []\n",
    "\n",
    "# loop over train_data tuple of type tf.tensor and convert to list with .numpy()\n",
    "for text,label in train_data:\n",
    "  training_sentences.append(str(text.numpy()))\n",
    "  training_labels.append(label.numpy())\n",
    "  \n",
    "for text,label in test_data:\n",
    "  testing_sentences.append(str(text.numpy()))\n",
    "  testing_labels.append(label.numpy())\n",
    "  \n",
    "training_labels_final = np.array(training_labels)\n",
    "testing_labels_final = np.array(testing_labels)\n"
   ]
  },
  {
   "cell_type": "code",
   "execution_count": 50,
   "id": "4ebc0fc7",
   "metadata": {},
   "outputs": [],
   "source": [
    "# vocab_size = 10000\n",
    "embedding_dim = 100\n",
    "max_length = 120\n",
    "trunc_type='post'\n",
    "oov_tok = \"<OOV>\"\n",
    "\n",
    "from tensorflow.keras.preprocessing.text import Tokenizer\n",
    "from tensorflow.keras.preprocessing.sequence import pad_sequences\n",
    "\n",
    "# tokenize and pad data\n",
    "\n",
    "tokenizer = Tokenizer(num_words = vocab_size, oov_token=oov_tok)\n",
    "tokenizer.fit_on_texts(training_sentences)\n",
    "word_index = tokenizer.word_index\n",
    "vocab_size=len(word_index)\n",
    "sequences = tokenizer.texts_to_sequences(training_sentences)\n",
    "padded = pad_sequences(sequences,maxlen=max_length, truncating=trunc_type)\n",
    "\n",
    "testing_sequences = tokenizer.texts_to_sequences(testing_sentences)\n",
    "testing_padded = pad_sequences(testing_sequences,maxlen=max_length)"
   ]
  },
  {
   "cell_type": "code",
   "execution_count": 65,
   "id": "651d5db4",
   "metadata": {},
   "outputs": [],
   "source": [
    "#-----------------------------------------------------------\n",
    "# basic NN with dense layers\n",
    "# training accuracy = 1 (after 10 epochs)\n",
    "# validation accuracy = 0.83 (after 10 epochs) decreasing with epochs\n",
    "# validation loss increasing with epochs --> overfitting\n",
    "#-----------------------------------------------------------\n",
    "\n",
    "model = tf.keras.Sequential([\n",
    "    tf.keras.layers.Embedding(vocab_size, embedding_dim,input_length=max_length),\n",
    "    tf.keras.layers.Flatten(),\n",
    "    tf.keras.layers.Dense(24, activation='relu'),\n",
    "    tf.keras.layers.Dense(1, activation='sigmoid')\n",
    "])\n",
    "\n",
    "#-----------------------------------------------------------\n",
    "# multi-layer LSTM \n",
    "# training accuracy = 1 (after 10 epochs)\n",
    "# validation accuracy = 0.82 (after 10 epochs) slight decrease with epochs\n",
    "# validation loss increasing with epochs --> overfitting\n",
    "#-----------------------------------------------------------\n",
    "\n",
    "# model = tf.keras.Sequential([\n",
    "#     tf.keras.layers.Embedding(vocab_size, 64),\n",
    "#     tf.keras.layers.Bidirectional(tf.keras.layers.LSTM(64, return_sequences=True)),\n",
    "#     tf.keras.layers.Bidirectional(tf.keras.layers.LSTM(32)),\n",
    "#     tf.keras.layers.Dense(64, activation='relu'),\n",
    "#     tf.keras.layers.Dense(1, activation='sigmoid')\n",
    "# ])\n",
    "\n",
    "#-----------------------------------------------------------\n",
    "# single-layer LSTM with dropout layer and custom optimizer according to original dropout paper\n",
    "# N. Srivastava, J. Mach. Learn. Res. 15 (2014) 1929-1958\n",
    "# training accuracy = 0.94 (after 10 epochs)\n",
    "# validation accuracy = 0.83 (after 10 epochs)\n",
    "# validation loss decreasing with epochs (up to 5 epochs) --> NOT overfitting\n",
    "# validation loss increases after 5 epochs, suggesting early stoppage at 5 to avoid overfitting beyond this\n",
    "#-----------------------------------------------------------\n",
    "\n",
    "# model = tf.keras.Sequential([\n",
    "#     tf.keras.layers.Embedding(vocab_size, embedding_dim),\n",
    "#     tf.keras.layers.Dropout(0.2),\n",
    "#     tf.keras.layers.Bidirectional(tf.keras.layers.LSTM(64)),\n",
    "#     tf.keras.layers.Dropout(0.2),\n",
    "#     tf.keras.layers.Dense(1, activation='sigmoid')\n",
    "# ])\n",
    "\n",
    "# -----------------------------------------------------------\n",
    "# single-layer LSTM, convolution 1D layer, with dropout layers and custom optimizer \n",
    "# -----------------------------------------------------------\n",
    "\n",
    "# model = tf.keras.Sequential([\n",
    "#     tf.keras.layers.Embedding(vocab_size, 64),\n",
    "#     tf.keras.layers.Dropout(0.2),\n",
    "#     tf.keras.layers.Conv1D(64, 5, activation='relu'),\n",
    "#     tf.keras.layers.Dropout(0.2),\n",
    "#     tf.keras.layers.Bidirectional(tf.keras.layers.LSTM(64)),\n",
    "#     tf.keras.layers.Dropout(0.2),\n",
    "#     tf.keras.layers.Dense(1, activation='sigmoid')\n",
    "# ])\n",
    "\n",
    "#-----------------------------------------------------------\n",
    "# multi-layer LSTM, with dropout layers and custom optimizer \n",
    "#-----------------------------------------------------------\n",
    "\n",
    "# model = tf.keras.Sequential([\n",
    "#     tf.keras.layers.Embedding(vocab_size, 64),\n",
    "#     tf.keras.layers.Dropout(0.2),\n",
    "#     tf.keras.layers.Bidirectional(tf.keras.layers.LSTM(64, return_sequences=True)),\n",
    "#     tf.keras.layers.Dropout(0.2),\n",
    "#     tf.keras.layers.Bidirectional(tf.keras.layers.LSTM(32)),\n",
    "#     tf.keras.layers.Dropout(0.2),\n",
    "#     tf.keras.layers.Dense(1, activation='sigmoid')\n",
    "# ])"
   ]
  },
  {
   "cell_type": "code",
   "execution_count": 66,
   "id": "b748ccfc",
   "metadata": {},
   "outputs": [],
   "source": [
    "model.compile(loss='binary_crossentropy', metrics=['accuracy'])"
   ]
  },
  {
   "cell_type": "code",
   "execution_count": 67,
   "id": "eac21103",
   "metadata": {},
   "outputs": [
    {
     "name": "stdout",
     "output_type": "stream",
     "text": [
      "Epoch 1/10\n",
      "782/782 [==============================] - 30s 38ms/step - loss: 0.4526 - accuracy: 0.7759 - val_loss: 0.3710 - val_accuracy: 0.8348\n",
      "Epoch 2/10\n",
      "782/782 [==============================] - 30s 38ms/step - loss: 0.1315 - accuracy: 0.9529 - val_loss: 0.4953 - val_accuracy: 0.8058\n",
      "Epoch 3/10\n",
      "782/782 [==============================] - 30s 39ms/step - loss: 0.0097 - accuracy: 0.9974 - val_loss: 0.7035 - val_accuracy: 0.8070\n",
      "Epoch 4/10\n",
      "782/782 [==============================] - 30s 39ms/step - loss: 4.9562e-04 - accuracy: 0.9999 - val_loss: 0.9160 - val_accuracy: 0.8112\n",
      "Epoch 5/10\n",
      "782/782 [==============================] - 30s 38ms/step - loss: 2.1399e-06 - accuracy: 1.0000 - val_loss: 1.0971 - val_accuracy: 0.8144\n",
      "Epoch 6/10\n",
      "782/782 [==============================] - 30s 39ms/step - loss: 1.9474e-08 - accuracy: 1.0000 - val_loss: 1.1517 - val_accuracy: 0.8144\n",
      "Epoch 7/10\n",
      "782/782 [==============================] - 30s 38ms/step - loss: 4.3162e-09 - accuracy: 1.0000 - val_loss: 1.1754 - val_accuracy: 0.8149\n",
      "Epoch 8/10\n",
      "782/782 [==============================] - 29s 38ms/step - loss: 1.9912e-09 - accuracy: 1.0000 - val_loss: 1.1877 - val_accuracy: 0.8149\n",
      "Epoch 9/10\n",
      "782/782 [==============================] - 28s 36ms/step - loss: 1.5674e-09 - accuracy: 1.0000 - val_loss: 1.1958 - val_accuracy: 0.8147\n",
      "Epoch 10/10\n",
      "782/782 [==============================] - 30s 38ms/step - loss: 1.4056e-09 - accuracy: 1.0000 - val_loss: 1.2032 - val_accuracy: 0.8142\n"
     ]
    }
   ],
   "source": [
    "num_epochs = 10\n",
    "history = model.fit(padded, training_labels_final, epochs=num_epochs, validation_data=(testing_padded, testing_labels_final))"
   ]
  },
  {
   "cell_type": "code",
   "execution_count": 68,
   "id": "e8feffd8",
   "metadata": {},
   "outputs": [],
   "source": [
    "import matplotlib.pyplot as plt\n",
    "\n",
    "def plot_graphs(history, string):\n",
    "  plt.plot(history.history[string])\n",
    "  plt.plot(history.history['val_'+string])\n",
    "  plt.xlabel(\"Epochs\")\n",
    "  plt.ylabel(string)\n",
    "  plt.legend([string, 'val_'+string])\n",
    "  plt.title('Basic NN')\n",
    "  plt.show()"
   ]
  },
  {
   "cell_type": "code",
   "execution_count": 69,
   "id": "734dbad6",
   "metadata": {},
   "outputs": [
    {
     "data": {
      "image/png": "[encoded data removed]",
      "text/plain": [
       "<Figure size 432x288 with 1 Axes>"
      ]
     },
     "metadata": {
      "needs_background": "light"
     },
     "output_type": "display_data"
    },
    {
     "data": {
      "image/png": "[encoded data removed]",
      "text/plain": [
       "<Figure size 432x288 with 1 Axes>"
      ]
     },
     "metadata": {
      "needs_background": "light"
     },
     "output_type": "display_data"
    }
   ],
   "source": [
    "plot_graphs(history, 'accuracy')\n",
    "plot_graphs(history, 'loss')"
   ]
  },
  {
   "cell_type": "code",
   "execution_count": null,
   "id": "67f7881c",
   "metadata": {},
   "outputs": [],
   "source": []
  }
 ],
 "metadata": {
  "kernelspec": {
   "display_name": "Python 3 (ipykernel)",
   "language": "python",
   "name": "python3"
  },
  "language_info": {
   "codemirror_mode": {
    "name": "ipython",
    "version": 3
   },
   "file_extension": ".py",
   "mimetype": "text/x-python",
   "name": "python",
   "nbconvert_exporter": "python",
   "pygments_lexer": "ipython3",
   "version": "3.8.5"
  }
 },
 "nbformat": 4,
 "nbformat_minor": 5
}
